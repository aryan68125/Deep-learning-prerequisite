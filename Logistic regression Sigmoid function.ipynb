{
 "cells": [
  {
   "cell_type": "markdown",
   "id": "c90758dd",
   "metadata": {},
   "source": [
    "# Deep Learning Prerequisite : Logistic Regression"
   ]
  },
  {
   "cell_type": "code",
   "execution_count": 1,
   "id": "aa15c7e0",
   "metadata": {},
   "outputs": [],
   "source": [
    "import numpy as np"
   ]
  },
  {
   "cell_type": "markdown",
   "id": "dc297443",
   "metadata": {},
   "source": [
    "## create a 100 by 2 normally distributed data matrix"
   ]
  },
  {
   "cell_type": "code",
   "execution_count": 3,
   "id": "74387daa",
   "metadata": {},
   "outputs": [],
   "source": [
    "N=200\n",
    "D=2"
   ]
  },
  {
   "cell_type": "code",
   "execution_count": 4,
   "id": "7924f23d",
   "metadata": {},
   "outputs": [],
   "source": [
    "X = np.random.randn(N,D)"
   ]
  },
  {
   "cell_type": "markdown",
   "id": "dbec0d10",
   "metadata": {},
   "source": [
    "## Here the biased term is the intercept"
   ]
  },
  {
   "cell_type": "markdown",
   "id": "1d848fc0",
   "metadata": {},
   "source": [
    "## Add a biased turn"
   ]
  },
  {
   "cell_type": "markdown",
   "id": "87b1092d",
   "metadata": {},
   "source": [
    "\n",
    "## here we are taking ones and multiplying it with N=200 then we are putting it inside a numpy array and then taking a transpose of the array. We are doing this because we have to add the biased turn. for that we usually just add a column of ones to the original data and include the bias term in the weights w."
   ]
  },
  {
   "cell_type": "code",
   "execution_count": 6,
   "id": "19451dc4",
   "metadata": {},
   "outputs": [],
   "source": [
    "ones = np.array([[1]*N]).T # vector of ones"
   ]
  },
  {
   "cell_type": "code",
   "execution_count": 7,
   "id": "558db4ae",
   "metadata": {},
   "outputs": [],
   "source": [
    "# concatinate this vector in the ones variable then to my original dataset to get another vector\n",
    "Xb = np.concatenate((ones, X),axis = 1)\n",
    "w = np.random.randn(D + 1) # initializing the weight vector of length D+1"
   ]
  },
  {
   "cell_type": "markdown",
   "id": "ac5135d2",
   "metadata": {},
   "source": [
    "## Note it doen't matter what the values are right now since there are no labels in the dataset we have. We just want to be able to calculate the sigmoid"
   ]
  },
  {
   "cell_type": "markdown",
   "id": "69571534",
   "metadata": {},
   "source": [
    "## Now we will do matrix multiplication using numpy and in numpy we do matrix multiplication using DOT product"
   ]
  },
  {
   "cell_type": "code",
   "execution_count": 9,
   "id": "f909b6cb",
   "metadata": {},
   "outputs": [],
   "source": [
    "z=Xb.dot(w)"
   ]
  },
  {
   "cell_type": "code",
   "execution_count": 10,
   "id": "73e24eb0",
   "metadata": {},
   "outputs": [
    {
     "data": {
      "text/plain": [
       "(200,)"
      ]
     },
     "execution_count": 10,
     "metadata": {},
     "output_type": "execute_result"
    }
   ],
   "source": [
    "z.shape"
   ]
  },
  {
   "cell_type": "markdown",
   "id": "34af7e46",
   "metadata": {},
   "source": [
    "## Sigmoid function used is as below:-"
   ]
  },
  {
   "cell_type": "markdown",
   "id": "87dc82a6",
   "metadata": {},
   "source": [
    "![](sigmoid.png)"
   ]
  },
  {
   "cell_type": "code",
   "execution_count": 13,
   "id": "f4201227",
   "metadata": {},
   "outputs": [
    {
     "name": "stdout",
     "output_type": "stream",
     "text": [
      "[0.29804345 0.52895041 0.33850371 0.37575556 0.35756225 0.51008064\n",
      " 0.604029   0.31255173 0.32666547 0.33786797 0.5612015  0.36365044\n",
      " 0.44163248 0.076212   0.28955042 0.34622863 0.36031701 0.28268532\n",
      " 0.57430364 0.25283618 0.37654239 0.47811878 0.16423172 0.2105528\n",
      " 0.38255422 0.57830608 0.23457984 0.394853   0.25253216 0.36140396\n",
      " 0.53203592 0.44600512 0.18297846 0.19357779 0.28414134 0.56939541\n",
      " 0.26019677 0.27472006 0.22122292 0.36534595 0.67780527 0.46330276\n",
      " 0.3038825  0.09087156 0.53457711 0.24802018 0.32609015 0.2034705\n",
      " 0.27870372 0.35935053 0.28808866 0.20083028 0.23430295 0.45322947\n",
      " 0.34596047 0.41755182 0.45373981 0.26598088 0.16460162 0.58006492\n",
      " 0.55221078 0.58077711 0.39415961 0.33319127 0.28049461 0.53308845\n",
      " 0.27220057 0.27322445 0.34206035 0.3928309  0.21862878 0.37749319\n",
      " 0.21742898 0.38858333 0.28901521 0.35746405 0.34239998 0.54344359\n",
      " 0.5084979  0.26235628 0.17655229 0.32879508 0.605875   0.40874955\n",
      " 0.30738412 0.15518025 0.47113634 0.34436813 0.32021532 0.54001693\n",
      " 0.35068794 0.67934731 0.1585014  0.26098075 0.4011399  0.18167138\n",
      " 0.30612342 0.38610776 0.40671621 0.4441507  0.39072169 0.62169346\n",
      " 0.52301715 0.52189767 0.37162675 0.23035686 0.32908874 0.56144893\n",
      " 0.5498502  0.45021456 0.53773286 0.31989391 0.37175089 0.58684302\n",
      " 0.29385173 0.27311562 0.47541052 0.26357472 0.11381279 0.34582027\n",
      " 0.4265984  0.39526091 0.25330033 0.21669785 0.43205174 0.35149208\n",
      " 0.26815837 0.25482613 0.53686347 0.3803339  0.43472254 0.29196974\n",
      " 0.20800945 0.43059462 0.20383493 0.22413008 0.45422114 0.59809677\n",
      " 0.4580474  0.31895299 0.30766492 0.37792857 0.53009739 0.42122712\n",
      " 0.54748066 0.37367766 0.47262237 0.35736981 0.25689292 0.27723526\n",
      " 0.60565787 0.49275233 0.34622138 0.51877871 0.26628835 0.29236283\n",
      " 0.53446105 0.36568257 0.28807112 0.26525984 0.35460264 0.3773495\n",
      " 0.5656874  0.36575237 0.40743961 0.28176993 0.44807398 0.55084628\n",
      " 0.51587909 0.54402367 0.19157769 0.39853673 0.43587014 0.24239704\n",
      " 0.47737007 0.32351983 0.48900097 0.30242441 0.53267818 0.75429924\n",
      " 0.24248011 0.50876725 0.74076119 0.33376763 0.33186991 0.67632848\n",
      " 0.47908935 0.32941415 0.30831584 0.50368528 0.41380457 0.24412593\n",
      " 0.18617763 0.28173792 0.68554042 0.47911027 0.18358443 0.54351606\n",
      " 0.4636388  0.27794338]\n"
     ]
    }
   ],
   "source": [
    "# calculating sigmoid here\n",
    "# np. exp() is a mathematical function used to find the exponential values of all the elements present in the \n",
    "# input array\n",
    "def sigmoid(z):\n",
    "    return 1/(1+np.exp(-z))\n",
    "sig = sigmoid(z)\n",
    "print (sig)"
   ]
  },
  {
   "cell_type": "code",
   "execution_count": 15,
   "id": "9815737d",
   "metadata": {},
   "outputs": [
    {
     "data": {
      "text/plain": [
       "(200,)"
      ]
     },
     "execution_count": 15,
     "metadata": {},
     "output_type": "execute_result"
    }
   ],
   "source": [
    "sig.shape"
   ]
  },
  {
   "cell_type": "code",
   "execution_count": 16,
   "id": "359dea19",
   "metadata": {},
   "outputs": [
    {
     "data": {
      "text/plain": [
       "200"
      ]
     },
     "execution_count": 16,
     "metadata": {},
     "output_type": "execute_result"
    }
   ],
   "source": [
    "sig.size"
   ]
  },
  {
   "cell_type": "code",
   "execution_count": null,
   "id": "12f2cea1",
   "metadata": {},
   "outputs": [],
   "source": []
  }
 ],
 "metadata": {
  "kernelspec": {
   "display_name": "Python [conda env:tensorflow] *",
   "language": "python",
   "name": "conda-env-tensorflow-py"
  },
  "language_info": {
   "codemirror_mode": {
    "name": "ipython",
    "version": 3
   },
   "file_extension": ".py",
   "mimetype": "text/x-python",
   "name": "python",
   "nbconvert_exporter": "python",
   "pygments_lexer": "ipython3",
   "version": "3.8.12"
  }
 },
 "nbformat": 4,
 "nbformat_minor": 5
}
